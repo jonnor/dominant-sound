{
 "cells": [
  {
   "cell_type": "code",
   "execution_count": 9,
   "id": "e5618b9d-3304-4b2f-ba2a-c778095d4a08",
   "metadata": {},
   "outputs": [],
   "source": [
    "import os\n",
    "import pandas as pd\n",
    "import numpy as np\n",
    "from itertools import groupby\n",
    "from src.features.soundlevel import soundlevel_for_file, compute_ln\n",
    "from src.utils.fileutils import get_project_root, ensure_dir"
   ]
  },
  {
   "cell_type": "code",
   "execution_count": 2,
   "id": "d8fb224b-cc2d-4e70-8b22-48cd493c77fe",
   "metadata": {},
   "outputs": [],
   "source": [
    "ROOT = get_project_root()\n",
    "data_root = os.path.join(ROOT, 'data/raw')\n",
    "output_root = os.path.join(ROOT, 'data/processed')"
   ]
  },
  {
   "cell_type": "code",
   "execution_count": 3,
   "id": "0815828a-020b-40c3-8cde-f7f5208ff584",
   "metadata": {},
   "outputs": [],
   "source": [
    "def maestro_path(scene: str = 'city_center', file_id: str = '09'):\n",
    "    audio_root = os.path.join(data_root, 'maestro_ds/development_audio')\n",
    "    filename = f'{scene}_{file_id}.wav'\n",
    "    return os.path.join(audio_root, scene, filename)"
   ]
  },
  {
   "cell_type": "code",
   "execution_count": 4,
   "id": "04da356e-204a-4779-ab7a-3c9179904566",
   "metadata": {},
   "outputs": [],
   "source": [
    "def tut_path(file_id: str = 'a001'):\n",
    "    audio_root = os.path.join(data_root, 'tut_ds/TUT-sound-events-2017-development/audio/street')\n",
    "    filename = f'{file_id}.wav'\n",
    "    return os.path.join(audio_root, filename)"
   ]
  },
  {
   "cell_type": "code",
   "execution_count": 5,
   "id": "45f354d7-06eb-48a1-afed-bdd3a7b835c5",
   "metadata": {},
   "outputs": [],
   "source": [
    "def get_moving_l90(decibels, frame_rate, moving_window):\n",
    "    \"\"\"\n",
    "    Computes the rolling L90 for a given array of dB levels and moving window size (in seconds)\n",
    "    \"\"\"\n",
    "    moving_window = frame_rate*moving_window\n",
    "    values = []\n",
    "    for i in range(0, (len(decibels)-moving_window)):\n",
    "        start= i\n",
    "        end= i + moving_window\n",
    "        values.append(compute_ln(decibels[start:end], n=90))\n",
    "        \n",
    "    values = np.insert(np.asarray(values), obj=0, values=[np.nan for i in range(moving_window//2)])\n",
    "    values = np.insert(np.asarray(values), obj=(len(decibels)-(moving_window//2)), values=[np.nan for i in range(moving_window//2)])\n",
    "    return values"
   ]
  },
  {
   "cell_type": "code",
   "execution_count": 23,
   "id": "50d4f4ad-8955-4ffe-b732-e98346c58c75",
   "metadata": {},
   "outputs": [],
   "source": [
    "def generate_sed_timestamps(audio_path: str, moving_window: int, sed_db_thresh: int):\n",
    "    audio_id = audio_path.split('\\\\')[-1]\n",
    "    print(audio_id)\n",
    "    \n",
    "    if 'maestro_ds' in audio_path:\n",
    "        dataset_name = 'maestro_ds'\n",
    "        \n",
    "    elif 'tut_ds' in audio_path:\n",
    "        dataset_name = 'tut_ds'\n",
    "        \n",
    "    ensure_dir(os.path.join(output_root, dataset_name, 'SED_timestamps'))\n",
    "    \n",
    "    output_path = os.path.join(output_root, dataset_name, 'SED_timestamps', audio_id.replace('.wav', '_SED.txt'))\n",
    "    print(output_path)\n",
    "    \n",
    "    \n",
    "    # Compute A-weighted soundlevels for file\n",
    "    df, meta = soundlevel_for_file(audio_path)\n",
    "    \n",
    "    # Determine the frame rate    \n",
    "    clip_duration = meta['duration']\n",
    "    print(clip_duration)\n",
    "    sr = round(df.shape[0] / clip_duration)\n",
    "    \n",
    "    # Compute rolling L90 on A-weighted levels and append to df\n",
    "    ln = get_moving_l90(decibels=df[0], frame_rate=sr, moving_window=moving_window)\n",
    "    df['mln'] = ln\n",
    "    \n",
    "    # Compute difference between dBA and L90\n",
    "    df['delta'] = df[0] - df['mln']\n",
    "    \n",
    "    \n",
    "    # Fetch timestamps where dBA exceeds SED threshold\n",
    "    results = []\n",
    "    for k, g in groupby(enumerate(df['delta'] >= sed_db_thresh), key=lambda x: x[1]):\n",
    "        if k: # k is True\n",
    "            g = list(g) # for example: [(1, True), (2, True)]\n",
    "            results.append([g[0][0], len(g)])\n",
    "    \n",
    "    sed_stamps = []\n",
    "    for result in results:\n",
    "        idx = result[0]\n",
    "        steps = result[1]\n",
    "        f_idx = idx + steps - 1\n",
    "        # if steps >= 4:\n",
    "\n",
    "        start = df.index[idx].total_seconds()\n",
    "        stop = df.index[f_idx].total_seconds()\n",
    "\n",
    "        sed_stamps.append((start, stop))\n",
    "        \n",
    "    seds = pd.DataFrame(sed_stamps)\n",
    "    seds[3] = f'SED_{sed_db_thresh}'\n",
    "\n",
    "    seds.to_csv(output_path, sep='\\t', header=False, index=False)\n",
    "    \n"
   ]
  },
  {
   "cell_type": "code",
   "execution_count": 24,
   "id": "abaa87b3-c95b-4c9d-a2b2-ddaf76a004df",
   "metadata": {},
   "outputs": [],
   "source": [
    "m = maestro_path()"
   ]
  },
  {
   "cell_type": "code",
   "execution_count": 25,
   "id": "6979b1d6-a9d6-40c9-965d-6233888fae44",
   "metadata": {},
   "outputs": [
    {
     "name": "stdout",
     "output_type": "stream",
     "text": [
      "city_center_09.wav\n",
      "c:\\users\\blake\\pycharmprojects\\dominant-sound\\data/processed\\maestro_ds\\SED_timestamps\\city_center_09_SED.txt\n",
      "210.8604081632653\n"
     ]
    }
   ],
   "source": [
    "generate_sed_timestamps(m, moving_window=10, sed_db_thresh=5)"
   ]
  },
  {
   "cell_type": "code",
   "execution_count": null,
   "id": "b4ebef07-9a31-4204-8c9d-4f2e8256600f",
   "metadata": {},
   "outputs": [],
   "source": []
  }
 ],
 "metadata": {
  "kernelspec": {
   "display_name": "venv",
   "language": "python",
   "name": "venv"
  },
  "language_info": {
   "codemirror_mode": {
    "name": "ipython",
    "version": 3
   },
   "file_extension": ".py",
   "mimetype": "text/x-python",
   "name": "python",
   "nbconvert_exporter": "python",
   "pygments_lexer": "ipython3",
   "version": "3.9.13"
  }
 },
 "nbformat": 4,
 "nbformat_minor": 5
}
