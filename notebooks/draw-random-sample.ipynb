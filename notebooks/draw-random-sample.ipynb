{
 "cells": [
  {
   "cell_type": "code",
   "execution_count": 1,
   "id": "27397311-be96-4bc5-8582-68e121b9a4f1",
   "metadata": {},
   "outputs": [],
   "source": [
    "import os\n",
    "import random\n",
    "import pandas as pd\n",
    "import numpy as np\n",
    "from src.utils.fileutils import get_project_root\n",
    "\n",
    "ROOT = get_project_root()\n",
    "data_root = os.path.join(ROOT, 'data/raw')\n",
    "maestro_root = os.path.join(data_root, 'maestro_ds/development_audio')"
   ]
  },
  {
   "cell_type": "code",
   "execution_count": 3,
   "id": "499a258a-a0db-43ed-9a0d-d6d6ad02c3b2",
   "metadata": {},
   "outputs": [
    {
     "name": "stdout",
     "output_type": "stream",
     "text": [
      "cafe_restaurant: 10\n",
      "city_center: 10\n",
      "grocery_store: 9\n",
      "metro_station: 9\n",
      "residential_area: 11\n"
     ]
    }
   ],
   "source": [
    "scenes = os.listdir(maestro_root)\n",
    "\n",
    "for scene in scenes:\n",
    "    scene_path = os.path.join(maestro_root, scene)\n",
    "    n_samples = len(os.listdir(scene_path))\n",
    "    print(f'{scene}: {n_samples}')"
   ]
  },
  {
   "cell_type": "code",
   "execution_count": 10,
   "id": "35411055-9bc0-4dbe-a865-791908f985e6",
   "metadata": {},
   "outputs": [
    {
     "name": "stdout",
     "output_type": "stream",
     "text": [
      "cafe_restaurant_08.wav\n",
      "cafe_restaurant_10.wav\n",
      "city_center_11.wav\n",
      "city_center_09.wav\n",
      "grocery_store_02.wav\n",
      "grocery_store_08.wav\n",
      "metro_station_04.wav\n",
      "metro_station_05.wav\n",
      "residential_area_12.wav\n",
      "residential_area_06.wav\n"
     ]
    }
   ],
   "source": [
    "scene_dict = {}\n",
    "for scene in scenes:\n",
    "    scene_path = os.path.join(maestro_root, scene)\n",
    "    files = os.listdir(scene_path)\n",
    "    scene_dict[scene] = files\n",
    "\n",
    "# randomly select 2 files from each scene\n",
    "random.seed(0)\n",
    "for scene in scenes:\n",
    "    file_list = scene_dict[scene]\n",
    "    random.shuffle(file_list)\n",
    "    randomised = random.sample(scene_dict[scene], k=2)\n",
    "    for rand_f in randomised:\n",
    "        print(rand_f)\n"
   ]
  },
  {
   "cell_type": "code",
   "execution_count": 9,
   "id": "e49b916b-5f0c-45f9-9413-4032d491e041",
   "metadata": {},
   "outputs": [
    {
     "name": "stdout",
     "output_type": "stream",
     "text": [
      "5 samples required for 20.0% sample size\n",
      "\n",
      "b005.wav\n",
      "b091.wav\n",
      "a003.wav\n",
      "a008.wav\n",
      "b093.wav\n"
     ]
    }
   ],
   "source": [
    "tut_root = os.path.join(data_root, 'tut_ds/TUT-sound-events-2017-development/audio/street')\n",
    "\n",
    "# randomly select X% of files from the dataset\n",
    "random.seed(0)\n",
    "\n",
    "# create a list of wav files in the directory\n",
    "file_list = [i for i in os.listdir(tut_root) if i.endswith('.wav')]\n",
    "\n",
    "# calculate required files for X% sample size\n",
    "tot_files = len(file_list)\n",
    "sample_pct = 0.2\n",
    "n_files = round(tot_files*sample_pct)\n",
    "\n",
    "print(f'{n_files} samples required for {sample_pct*100}% sample size\\n')\n",
    "\n",
    "# shuffle the list in place for good measure, then sample k files\n",
    "random.shuffle(file_list)\n",
    "randomised = random.sample(file_list, k=n_files)\n",
    "for rand_f in randomised:\n",
    "    print(rand_f)"
   ]
  }
 ],
 "metadata": {
  "kernelspec": {
   "display_name": "venv",
   "language": "python",
   "name": "venv"
  },
  "language_info": {
   "codemirror_mode": {
    "name": "ipython",
    "version": 3
   },
   "file_extension": ".py",
   "mimetype": "text/x-python",
   "name": "python",
   "nbconvert_exporter": "python",
   "pygments_lexer": "ipython3",
   "version": "3.9.13"
  }
 },
 "nbformat": 4,
 "nbformat_minor": 5
}
